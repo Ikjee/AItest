{
 "cells": [
  {
   "cell_type": "code",
   "execution_count": 24,
   "id": "46a23e4e-5772-4344-9d22-a58325f0d2f1",
   "metadata": {},
   "outputs": [],
   "source": [
    "import numpy as np\n",
    "import pandas as pd\n",
    "import matplotlib.pyplot as plt\n",
    "import seaborn as sns\n",
    "\n",
    "from sklearn.model_selection import train_test_split\n",
    "from sklearn.preprocessing import StandardScaler, MinMaxScaler, RobustScaler\n",
    "from sklearn.tree import DecisionTreeClassifier\n",
    "from sklearn.datasets import load_iris\n",
    "\n",
    "import warnings\n",
    "\n"
   ]
  },
  {
   "cell_type": "code",
   "execution_count": 25,
   "id": "5a76f025-cf92-4d65-87ff-e8c3b4d5bc7d",
   "metadata": {},
   "outputs": [],
   "source": [
    "dict = load_iris()"
   ]
  },
  {
   "cell_type": "code",
   "execution_count": 31,
   "id": "f0c73ccc-b6a2-43e7-a62a-9a8762ac6fd1",
   "metadata": {},
   "outputs": [
    {
     "ename": "NameError",
     "evalue": "name 'mydict' is not defined",
     "output_type": "error",
     "traceback": [
      "\u001b[1;31m---------------------------------------------------------------------------\u001b[0m",
      "\u001b[1;31mNameError\u001b[0m                                 Traceback (most recent call last)",
      "Cell \u001b[1;32mIn[31], line 1\u001b[0m\n\u001b[1;32m----> 1\u001b[0m df \u001b[38;5;241m=\u001b[39m pd\u001b[38;5;241m.\u001b[39mDataFrame(data\u001b[38;5;241m=\u001b[39m\u001b[43mmydict\u001b[49m[\u001b[38;5;124m\"\u001b[39m\u001b[38;5;124mdata\u001b[39m\u001b[38;5;124m\"\u001b[39m], columns\u001b[38;5;241m=\u001b[39mmydict[\u001b[38;5;124m'\u001b[39m\u001b[38;5;124mfeature_names\u001b[39m\u001b[38;5;124m'\u001b[39m])\n\u001b[0;32m      2\u001b[0m df\u001b[38;5;241m.\u001b[39mcolumns \u001b[38;5;241m=\u001b[39m [\u001b[38;5;124m'\u001b[39m\u001b[38;5;124msl\u001b[39m\u001b[38;5;124m'\u001b[39m,\u001b[38;5;124m'\u001b[39m\u001b[38;5;124msw\u001b[39m\u001b[38;5;124m'\u001b[39m,\u001b[38;5;124m'\u001b[39m\u001b[38;5;124mpl\u001b[39m\u001b[38;5;124m'\u001b[39m,\u001b[38;5;124m'\u001b[39m\u001b[38;5;124mpw\u001b[39m\u001b[38;5;124m'\u001b[39m]\n\u001b[0;32m      3\u001b[0m df\u001b[38;5;241m.\u001b[39mhead()    \n",
      "\u001b[1;31mNameError\u001b[0m: name 'mydict' is not defined"
     ]
    }
   ],
   "source": [
    "df = pd.DataFrame(data=mydict[\"data\"], columns=mydict['feature_names'])\n",
    "df.columns = ['sl','sw','pl','pw']\n",
    "df.head()    \n",
    "\n",
    "df[\"target\"] = mydict[\"target\"]"
   ]
  },
  {
   "cell_type": "code",
   "execution_count": null,
   "id": "718217f5-607d-4179-9f91-96cef5d7217d",
   "metadata": {},
   "outputs": [],
   "source": []
  },
  {
   "cell_type": "code",
   "execution_count": null,
   "id": "e1fbb369-9ca3-4a51-ba3c-1651d19e9a07",
   "metadata": {},
   "outputs": [],
   "source": [
    "df.hist()\n",
    "plt.show()"
   ]
  },
  {
   "cell_type": "code",
   "execution_count": null,
   "id": "0e7d7f2e-9397-4e06-868a-9f0d6444f891",
   "metadata": {},
   "outputs": [],
   "source": [
    "dict[\"target\"]"
   ]
  },
  {
   "cell_type": "code",
   "execution_count": null,
   "id": "d311e20c-ea88-4c1b-aede-51b654fc565c",
   "metadata": {},
   "outputs": [],
   "source": [
    "# 학습, 예측, 평가"
   ]
  },
  {
   "cell_type": "code",
   "execution_count": null,
   "id": "1644c1ba-659e-402c-9f38-856dc1dc09bf",
   "metadata": {},
   "outputs": [],
   "source": [
    "train_test_split( 문제지 (X) , 답안지  (y), test_size=0.2) "
   ]
  },
  {
   "cell_type": "code",
   "execution_count": null,
   "id": "35564999-6a9c-48ab-9820-2213df0677ba",
   "metadata": {
    "scrolled": true
   },
   "outputs": [],
   "source": [
    "y = df[\"target\"]\n",
    "X = df.drop(['target'], axis=1)\n",
    "\n",
    "train_test_split(X, y, test_size=20) \n",
    "\n",
    "# 1보다 크면 숫자, 1보다 낮으면 비율\n",
    "# 답안지 y, 문제지X\n",
    "\n"
   ]
  },
  {
   "cell_type": "code",
   "execution_count": null,
   "id": "20dc7041-92b4-469b-9a8a-10217c405c96",
   "metadata": {},
   "outputs": [],
   "source": []
  }
 ],
 "metadata": {
  "kernelspec": {
   "display_name": "Python 3 (ipykernel)",
   "language": "python",
   "name": "python3"
  },
  "language_info": {
   "codemirror_mode": {
    "name": "ipython",
    "version": 3
   },
   "file_extension": ".py",
   "mimetype": "text/x-python",
   "name": "python",
   "nbconvert_exporter": "python",
   "pygments_lexer": "ipython3",
   "version": "3.8.8"
  }
 },
 "nbformat": 4,
 "nbformat_minor": 5
}
