{
 "cells": [
  {
   "cell_type": "code",
   "execution_count": 1,
   "id": "025bccdc-3966-4c6d-ac29-c39c5d9c91f1",
   "metadata": {},
   "outputs": [],
   "source": [
    "import numpy as np\n",
    "import pandas as pd\n",
    "import matplotlib.pyplot as plt\n",
    "import seaborn as sns\n",
    "\n",
    "# ------------------------------------------------------\n",
    "from sklearn.datasets import load_iris\n",
    "from sklearn.model_selection import train_test_split\n",
    "from sklearn.preprocessing import StandardScaler, MinMaxScaler, RobustScaler\n",
    "from sklearn.preprocessing import LabelEncoder, OneHotEncoder\n",
    "from sklearn.tree import DecisionTreeClassifier\n",
    "# ------------------------------------------------------\n",
    "\n",
    "from sklearn.metrics import accuracy_score\n",
    "from sklearn.metrics import precision_score, recall_score, f1_score, roc_auc_score \n",
    "from sklearn.metrics import confusion_matrix,classification_report\n",
    "from sklearn.metrics import roc_curve, roc_auc_score\n",
    "# ------------------------------------------------------\n",
    "\n",
    "\n",
    "import warnings\n",
    "warnings.filterwarnings(action=\"ignore\")"
   ]
  },
  {
   "cell_type": "code",
   "execution_count": 5,
   "id": "315e62e6-9826-4f47-8c1a-64ad360d6fc1",
   "metadata": {},
   "outputs": [],
   "source": [
    "df = pd.read_csv(\"가공완료_titanic.csv\")"
   ]
  },
  {
   "cell_type": "code",
   "execution_count": 7,
   "id": "e29e52e9-2c8d-4de2-9d41-56d34052c249",
   "metadata": {},
   "outputs": [],
   "source": [
    "from sklearn.model_selection import KFold, train_test_split, StratifiedKFold, cross_val_score, cross_validate"
   ]
  },
  {
   "cell_type": "code",
   "execution_count": 15,
   "id": "cb5aa078-5e99-4237-843e-9a0b970fc2c2",
   "metadata": {},
   "outputs": [
    {
     "name": "stdout",
     "output_type": "stream",
     "text": [
      "f1:0.8000\n",
      "f1:0.8336\n",
      "f1:0.7645\n",
      "f1:0.7872\n",
      "f1:0.7924\n"
     ]
    },
    {
     "data": {
      "text/plain": [
       "0.7955360213500893"
      ]
     },
     "execution_count": 15,
     "metadata": {},
     "output_type": "execute_result"
    }
   ],
   "source": [
    "y=df[\"survived\"]\n",
    "X = df.drop('survived', axis=1)\n",
    "\n",
    "stkfold = StratifiedKFold(n_splits = 5, shuffle = True, random_state=1111)\n",
    "\n",
    "score_list_str = []\n",
    "for i, (train_inx, test_idx) in enumerate(stkfold.split(X, y)):\n",
    "    # print(i, train_inx, test_idx)\n",
    "    # print(df.loc[train_inx,\"target\"].values)\n",
    "    # print(df.loc[test_idx,\"target\"].values)\n",
    "    \n",
    "    # print(X.loc[train_inx].values)\n",
    "    # print(X.loc[test_idx].values)\n",
    "\n",
    "    X_train, X_test = X.loc[train_inx], X.loc[test_idx]\n",
    "\n",
    "    y_train, y_test = y.loc[train_inx], y.loc[test_idx]\n",
    "\n",
    "    # print(i, X_train.shape, X_test.shape, y_train.shape, y_test.shape)\n",
    "\n",
    "    model = DecisionTreeClassifier(random_state=111, min_samples_split=2)\n",
    "    model.fit(X_train, y_train)\n",
    "    pred = model.predict(X_test)\n",
    "    f1 = f1_score(y_test, pred, average=\"macro\")\n",
    "    print(f\"f1:{f1:.4f}\")\n",
    "    score_list_str.append(f1)\n",
    "\n",
    "np.mean(score_list_str)\n",
    "    \n",
    "    # print(y.loc[train_inx].values)\n",
    "    # print(y.loc[test_idx].values)\n",
    "# (train_index, test_idx) = kfold.split(X)"
   ]
  },
  {
   "cell_type": "code",
   "execution_count": 24,
   "id": "f29a7f34-8f26-499e-9408-e8e4651e2033",
   "metadata": {},
   "outputs": [
    {
     "name": "stdout",
     "output_type": "stream",
     "text": [
      "accuracy:0.7985  f1:0.7128\n"
     ]
    }
   ],
   "source": [
    "from sklearn.model_selection import train_test_split\n",
    "from sklearn.tree import DecisionTreeClassifier\n",
    "from sklearn.metrics import accuracy_score, f1_score\n",
    "\n",
    "y = df[\"survived\"]\n",
    "X = df.drop('survived', axis=1)\n",
    "\n",
    "train_X, test_X, train_y, test_y = train_test_split(X, y, test_size=0.3, random_state=11, stratify=y)\n",
    "model = DecisionTreeClassifier(random_state=11)\n",
    "model.fit(train_X, train_y)\n",
    "pred = model.predict(test_X)\n",
    "\n",
    "skfold = StratifiedKFold(n_splits=5, shuffle=True, random_state=1111) \n",
    "score_arr = cross_val_score(model, X,y, cv=skfold, scoring=\"f1\")\n",
    "\n",
    "accuracy = accuracy_score(test_y, pred)\n",
    "f1       = f1_score(test_y, pred)\n",
    "print(f\"accuracy:{accuracy:.4f}  f1:{f1:.4f}\")"
   ]
  },
  {
   "cell_type": "code",
   "execution_count": 37,
   "id": "5e76a863-271d-492e-97e8-85f4f2f20603",
   "metadata": {},
   "outputs": [],
   "source": [
    "from sklearn.ensemble import BaggingClassifier, RandomForestClassifier \n",
    "from sklearn.tree import DecisionTreeClassifier\n",
    "from sklearn.ensemble import AdaBoostClassifier, GradientBoostingClassifier\n",
    "from sklearn.ensemble import StackingClassifier\n",
    "from sklearn.ensemble import VotingClassifier\n",
    "from sklearn.linear_model import LogisticRegression\n",
    "import xgboost as xgb\n",
    "import lightgbm as lgb\n",
    "from catboost import CatBoostClassifier\n",
    "from sklearn.pipeline import Pipeline"
   ]
  },
  {
   "cell_type": "code",
   "execution_count": 34,
   "id": "0786b0a9-3e66-4799-a302-7abf9f0b8db4",
   "metadata": {},
   "outputs": [
    {
     "name": "stdout",
     "output_type": "stream",
     "text": [
      "Requirement already satisfied: catboost in c:\\ai\\pythonproject\\venv\\lib\\site-packages (1.2.1)\n",
      "Requirement already satisfied: graphviz in c:\\ai\\pythonproject\\venv\\lib\\site-packages (from catboost) (0.20.1)\n",
      "Requirement already satisfied: matplotlib in c:\\ai\\pythonproject\\venv\\lib\\site-packages (from catboost) (3.7.2)\n",
      "Requirement already satisfied: numpy>=1.16.0 in c:\\ai\\pythonproject\\venv\\lib\\site-packages (from catboost) (1.23.5)\n",
      "Requirement already satisfied: pandas>=0.24 in c:\\ai\\pythonproject\\venv\\lib\\site-packages (from catboost) (1.5.3)\n",
      "Requirement already satisfied: scipy in c:\\ai\\pythonproject\\venv\\lib\\site-packages (from catboost) (1.10.1)\n",
      "Requirement already satisfied: plotly in c:\\ai\\pythonproject\\venv\\lib\\site-packages (from catboost) (5.15.0)\n",
      "Requirement already satisfied: six in c:\\ai\\pythonproject\\venv\\lib\\site-packages (from catboost) (1.16.0)\n",
      "Requirement already satisfied: python-dateutil>=2.8.1 in c:\\ai\\pythonproject\\venv\\lib\\site-packages (from pandas>=0.24->catboost) (2.8.2)\n",
      "Requirement already satisfied: pytz>=2020.1 in c:\\ai\\pythonproject\\venv\\lib\\site-packages (from pandas>=0.24->catboost) (2023.3)\n",
      "Requirement already satisfied: contourpy>=1.0.1 in c:\\ai\\pythonproject\\venv\\lib\\site-packages (from matplotlib->catboost) (1.1.0)\n",
      "Requirement already satisfied: cycler>=0.10 in c:\\ai\\pythonproject\\venv\\lib\\site-packages (from matplotlib->catboost) (0.11.0)\n",
      "Requirement already satisfied: fonttools>=4.22.0 in c:\\ai\\pythonproject\\venv\\lib\\site-packages (from matplotlib->catboost) (4.42.0)\n",
      "Requirement already satisfied: kiwisolver>=1.0.1 in c:\\ai\\pythonproject\\venv\\lib\\site-packages (from matplotlib->catboost) (1.4.4)\n",
      "Requirement already satisfied: packaging>=20.0 in c:\\ai\\pythonproject\\venv\\lib\\site-packages (from matplotlib->catboost) (23.1)\n",
      "Requirement already satisfied: pillow>=6.2.0 in c:\\ai\\pythonproject\\venv\\lib\\site-packages (from matplotlib->catboost) (10.0.0)\n",
      "Requirement already satisfied: pyparsing<3.1,>=2.3.1 in c:\\ai\\pythonproject\\venv\\lib\\site-packages (from matplotlib->catboost) (3.0.9)\n",
      "Requirement already satisfied: importlib-resources>=3.2.0 in c:\\ai\\pythonproject\\venv\\lib\\site-packages (from matplotlib->catboost) (6.0.0)\n",
      "Requirement already satisfied: tenacity>=6.2.0 in c:\\ai\\pythonproject\\venv\\lib\\site-packages (from plotly->catboost) (8.2.2)\n",
      "Requirement already satisfied: zipp>=3.1.0 in c:\\ai\\pythonproject\\venv\\lib\\site-packages (from importlib-resources>=3.2.0->matplotlib->catboost) (3.16.2)\n"
     ]
    },
    {
     "name": "stderr",
     "output_type": "stream",
     "text": [
      "WARNING: Ignoring invalid distribution - (c:\\ai\\pythonproject\\venv\\lib\\site-packages)\n",
      "WARNING: Ignoring invalid distribution -atplotlib (c:\\ai\\pythonproject\\venv\\lib\\site-packages)\n",
      "WARNING: Ignoring invalid distribution - (c:\\ai\\pythonproject\\venv\\lib\\site-packages)\n",
      "WARNING: Ignoring invalid distribution -atplotlib (c:\\ai\\pythonproject\\venv\\lib\\site-packages)\n"
     ]
    }
   ],
   "source": [
    "! pip install catboost"
   ]
  },
  {
   "cell_type": "code",
   "execution_count": 53,
   "id": "327d7f80-f45e-4195-926d-a421f7a8b6ba",
   "metadata": {},
   "outputs": [],
   "source": [
    "lr = LogisticRegression(random_state=11)\n",
    "dt = DecisionTreeClassifier(random_state=11)\n",
    "\n",
    "voting = VotingClassifier(estimators=[ ('lr', lr), ('df', df)], voting='hard')\n",
    "\n",
    "bagging = BaggingClassifier(estimator=dt, n_estimators=10, random_state=11)\n",
    "rf = RandomForestClassifier(n_estimators=20,random_state=11)\n",
    "\n",
    "gboost = GradientBoostingClassifier(loss='log_loss', learning_rate=0.1, n_estimators=20, random_state=11)\n",
    "\n",
    "skfold = StratifiedKFold(n_splits=3, shuffle=True, random_state=1212)  # 분류\n",
    "staking = StackingClassifier(estimators=[ ('lr', lr), ('df', df)], final_estimator=rf, cv=skfold)\n",
    "\n",
    "\n"
   ]
  },
  {
   "cell_type": "code",
   "execution_count": null,
   "id": "59f37714-5a05-4b53-a1cb-d94d747c695d",
   "metadata": {},
   "outputs": [],
   "source": []
  },
  {
   "cell_type": "code",
   "execution_count": null,
   "id": "dfeadbe8-1fe0-499d-98d8-3705cef49874",
   "metadata": {},
   "outputs": [],
   "source": []
  },
  {
   "cell_type": "code",
   "execution_count": null,
   "id": "a87ca677-b548-4f63-a44a-e808748f56e0",
   "metadata": {},
   "outputs": [],
   "source": []
  },
  {
   "cell_type": "code",
   "execution_count": null,
   "id": "20603d7c-d4c8-482d-bbe0-b8a421342350",
   "metadata": {},
   "outputs": [],
   "source": []
  },
  {
   "cell_type": "code",
   "execution_count": null,
   "id": "7ea5c5ff-b2f5-4463-98da-a2867f30cc84",
   "metadata": {},
   "outputs": [],
   "source": []
  }
 ],
 "metadata": {
  "kernelspec": {
   "display_name": "Python 3 (ipykernel)",
   "language": "python",
   "name": "python3"
  },
  "language_info": {
   "codemirror_mode": {
    "name": "ipython",
    "version": 3
   },
   "file_extension": ".py",
   "mimetype": "text/x-python",
   "name": "python",
   "nbconvert_exporter": "python",
   "pygments_lexer": "ipython3",
   "version": "3.8.8"
  }
 },
 "nbformat": 4,
 "nbformat_minor": 5
}
